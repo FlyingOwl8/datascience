{
 "cells": [
  {
   "cell_type": "markdown",
   "id": "657be689",
   "metadata": {},
   "source": [
    "# Самостоятельное задание #3\n",
    "\n",
    "\n",
    "### Задание 1\n",
    "\n",
    "Допишите функцию, которая принимает массив из 10 чисел и возвращает их сумму."
   ]
  },
  {
   "cell_type": "code",
   "execution_count": null,
   "id": "18ffcbab",
   "metadata": {},
   "outputs": [],
   "source": [
    "# Начните писать код тут\n",
    "def array_sum(array):\n",
    "    s = 0\n",
    "    for x in array:\n",
    "        s += x\n",
    "    return s"
   ]
  },
  {
   "cell_type": "markdown",
   "id": "eb78afc0",
   "metadata": {},
   "source": [
    "\n",
    "### Задание 2\n",
    "\n",
    "Допишите функцию, которая принимает массив чисел и возвращает количество чисел равных нулю."
   ]
  },
  {
   "cell_type": "code",
   "execution_count": null,
   "id": "7e8fe536",
   "metadata": {},
   "outputs": [],
   "source": [
    "# Начните писать код тут\n",
    "def array_count_zeros(array):\n",
    "    s = 0\n",
    "    for x in array:\n",
    "        if x == 0: s += 1\n",
    "    return s"
   ]
  },
  {
   "cell_type": "markdown",
   "id": "570d5a26",
   "metadata": {},
   "source": [
    "\n",
    "### Задание 3\n",
    "\n",
    "Напишите программу, в которой задается  натуральное число n и выводится лестница из n ступенек, i-я ступенька должна состоять из чисел от 1 до i без пробелов."
   ]
  },
  {
   "cell_type": "code",
   "execution_count": null,
   "id": "69fd0501",
   "metadata": {},
   "outputs": [],
   "source": [
    "# Начните писать код тут\n",
    "def steps():\n",
    "    n = int(input())\n",
    "    for i in range(1, n+1):\n",
    "        for j in range(1, i+1): print(j, end = '')\n",
    "        print()"
   ]
  },
  {
   "cell_type": "markdown",
   "id": "b6ef1c44",
   "metadata": {},
   "source": [
    "\n",
    "### Задание 4\n",
    "\n",
    "Напишите программу, в которой задается натуральное число n и выводится пирамида из n ступенек, i-я ступень должна состоять из чисел от 1 до i и обратно без пробелов."
   ]
  },
  {
   "cell_type": "code",
   "execution_count": null,
   "id": "6b038f87",
   "metadata": {},
   "outputs": [],
   "source": [
    "# Начните писать код тут\n",
    "def pyramid():\n",
    "    n = int(input())\n",
    "    for i in range(1, n+1):\n",
    "        print(' '*(n-i), end='')\n",
    "        for j in range(1, i+1): print(j, end='')\n",
    "        for j in range(i, 0, -1): print(j, end='')\n",
    "        print()"
   ]
  },
  {
   "cell_type": "markdown",
   "id": "b4552ef5",
   "metadata": {},
   "source": [
    "\n",
    "### Задание 5\n",
    "\n",
    "Напишите программу, в которой задается натуральное число n и выводится ромб из `n*2-1` ступенек, i-я ступень должна состоять из чисел от 1 до i и обратно без пробелов."
   ]
  },
  {
   "cell_type": "code",
   "execution_count": null,
   "id": "5eaae897",
   "metadata": {},
   "outputs": [],
   "source": [
    "# Начните писать код тут\n",
    "def rhombus():\n",
    "    n = int(input())\n",
    "    for i in range(1, n+1):\n",
    "        print(' '*(n-i), end='')\n",
    "        for j in range(1, i+1): print(j, end='')\n",
    "        for j in range(i, 0, -1): print(j, end='')\n",
    "        print()\n",
    "    for i in range(n-1, 0, -1):\n",
    "        print(' ' * (n - i), end='')\n",
    "        for j in range(1, i+1): print(j, end='')\n",
    "        for j in range(i, 0, -1): print(j, end='')\n",
    "        print()"
   ]
  }
 ],
 "metadata": {
  "kernelspec": {
   "display_name": "Python 3.10.6 64-bit",
   "language": "python",
   "name": "python3"
  },
  "language_info": {
   "codemirror_mode": {
    "name": "ipython",
    "version": 3
   },
   "file_extension": ".py",
   "mimetype": "text/x-python",
   "name": "python",
   "nbconvert_exporter": "python",
   "pygments_lexer": "ipython3",
   "version": "3.10.6"
  },
  "vscode": {
   "interpreter": {
    "hash": "26de051ba29f2982a8de78e945f0abaf191376122a1563185a90213a26c5da77"
   }
  }
 },
 "nbformat": 4,
 "nbformat_minor": 5
}
